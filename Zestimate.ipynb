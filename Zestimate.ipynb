{
 "cells": [
  {
   "cell_type": "code",
   "execution_count": 1,
   "metadata": {},
   "outputs": [],
   "source": [
    "import pandas as pd\n",
    "import numpy as np\n",
    "import seaborn as sns\n",
    "import datetime\n",
    "import matplotlib.pyplot as plt\n",
    "import matplotlib.dates as dates\n",
    "import scipy.stats as stats"
   ]
  },
  {
   "cell_type": "code",
   "execution_count": 2,
   "metadata": {
    "scrolled": false
   },
   "outputs": [],
   "source": [
    "import lightgbm as lgb"
   ]
  },
  {
   "cell_type": "code",
   "execution_count": 3,
   "metadata": {},
   "outputs": [],
   "source": [
    "% matplotlib inline\n",
    "pd.options.display.max_columns = 999"
   ]
  },
  {
   "cell_type": "code",
   "execution_count": 4,
   "metadata": {},
   "outputs": [],
   "source": [
    "trainData = pd.read_csv(\"train_2016_v2.csv\", parse_dates = [\"transactiondate\"])"
   ]
  },
  {
   "cell_type": "code",
   "execution_count": 5,
   "metadata": {},
   "outputs": [
    {
     "name": "stderr",
     "output_type": "stream",
     "text": [
      "/Users/yashikagoyal/anaconda3/lib/python3.6/site-packages/IPython/core/interactiveshell.py:2728: DtypeWarning: Columns (22,32,34,49,55) have mixed types. Specify dtype option on import or set low_memory=False.\n",
      "  interactivity=interactivity, compiler=compiler, result=result)\n"
     ]
    }
   ],
   "source": [
    "property_2016 = pd.read_csv(\"properties_2016.csv\")"
   ]
  },
  {
   "cell_type": "code",
   "execution_count": 6,
   "metadata": {},
   "outputs": [],
   "source": [
    "property_2016.pooltypeid2.fillna(0,inplace = True)"
   ]
  },
  {
   "cell_type": "code",
   "execution_count": 7,
   "metadata": {},
   "outputs": [],
   "source": [
    "property_2016.pooltypeid7.fillna(0,inplace = True)"
   ]
  },
  {
   "cell_type": "code",
   "execution_count": 8,
   "metadata": {},
   "outputs": [],
   "source": [
    "property_2016['poolcnt'].fillna(0, inplace = True)"
   ]
  },
  {
   "cell_type": "code",
   "execution_count": 9,
   "metadata": {},
   "outputs": [],
   "source": [
    "property_2016.hashottuborspa.fillna(0,inplace = True)"
   ]
  },
  {
   "cell_type": "code",
   "execution_count": 10,
   "metadata": {},
   "outputs": [],
   "source": [
    "property_2016.hashottuborspa.replace(to_replace = True, value = 1,inplace = True)"
   ]
  },
  {
   "cell_type": "code",
   "execution_count": 11,
   "metadata": {},
   "outputs": [],
   "source": [
    "pss = property_2016.loc[property_2016.poolcnt==1, 'poolsizesum'].fillna(property_2016[property_2016.poolcnt==1].poolsizesum.median())\n",
    "property_2016.loc[property_2016.poolcnt==1, 'poolsizesum'] = pss"
   ]
  },
  {
   "cell_type": "code",
   "execution_count": 12,
   "metadata": {},
   "outputs": [],
   "source": [
    "property_2016.loc[property_2016.poolcnt==0, 'poolsizesum']=0"
   ]
  },
  {
   "cell_type": "code",
   "execution_count": 13,
   "metadata": {},
   "outputs": [],
   "source": [
    "def analysis():\n",
    "    continuous = ['basementsqft', 'finishedfloor1squarefeet', 'calculatedfinishedsquarefeet', \n",
    "              'finishedsquarefeet12', 'finishedsquarefeet13', 'finishedsquarefeet15',\n",
    "              'finishedsquarefeet50', 'finishedsquarefeet6', 'garagetotalsqft', 'latitude',\n",
    "              'longitude', 'lotsizesquarefeet', 'poolsizesum',  'yardbuildingsqft17',\n",
    "              'yardbuildingsqft26', 'yearbuilt', 'structuretaxvaluedollarcnt', 'taxvaluedollarcnt',\n",
    "              'landtaxvaluedollarcnt', 'taxamount']\n",
    "\n",
    "    discrete = ['bathroomcnt', 'bedroomcnt', 'calculatedbathnbr', 'fireplacecnt', 'fullbathcnt',\n",
    "            'garagecarcnt', 'poolcnt', 'roomcnt', 'threequarterbathnbr', 'unitcnt',\n",
    "            'numberofstories', 'assessmentyear', 'taxdelinquencyyear']\n",
    "    \n",
    "    for col in continuous:\n",
    "        values = data[col].dropna()\n",
    "        lower = np.percentile(values, 1)\n",
    "        upper = np.percentile(values, 99)\n",
    "        fig = plt.figure(figsize=(18,9));\n",
    "        sns.distplot(values[(values>lower) & (values<upper)], color='Sienna', ax = plt.subplot(121));\n",
    "        sns.boxplot(y=values, color='Sienna', ax = plt.subplot(122));\n",
    "        plt.suptitle(col, fontsize=16)       \n",
    "    \n",
    "    NanAsZero = ['fireplacecnt', 'poolcnt', 'threequarterbathnbr']\n",
    "    for col in discrete:\n",
    "        if col in NanAsZero:\n",
    "            data[col].fillna(0, inplace=True)\n",
    "        values = data[col].dropna()   \n",
    "        fig = plt.figure(figsize=(18,9));\n",
    "        sns.countplot(x=values, color='Sienna', ax = plt.subplot(121));\n",
    "        sns.boxplot(y=values, color='Sienna', ax = plt.subplot(122));\n",
    "        plt.suptitle(col, fontsize=16)\n",
    "        \n",
    "    for col in objects:\n",
    "        values = data[col].astype('str').value_counts(dropna=False).to_frame().reset_index()\n",
    "        \n",
    "        \n",
    "\n",
    "    ### Adding percents over bars\n",
    "    height = [p.get_height() for p in ax.patches]    \n",
    "    total = sum(height)\n",
    "    for i, p in enumerate(ax.patches):    \n",
    "        ax.text(p.get_x()+p.get_width()/2,\n",
    "                height[i]+total*0.01,\n",
    "                '{:1.0%}'.format(height[i]/total),\n",
    "                ha=\"center\")  "
   ]
  },
  {
   "cell_type": "code",
   "execution_count": 14,
   "metadata": {},
   "outputs": [],
   "source": [
    "property_2016.drop('pooltypeid10', axis=1, inplace=True)"
   ]
  },
  {
   "cell_type": "code",
   "execution_count": 15,
   "metadata": {},
   "outputs": [],
   "source": [
    "property_2016.loc[(property_2016['fireplaceflag'] == True) & (property_2016['fireplacecnt'].isnull()), ['fireplacecnt']] = 1"
   ]
  },
  {
   "cell_type": "code",
   "execution_count": 16,
   "metadata": {},
   "outputs": [],
   "source": [
    "property_2016.fireplacecnt.fillna(0,inplace = True)"
   ]
  },
  {
   "cell_type": "code",
   "execution_count": 17,
   "metadata": {},
   "outputs": [],
   "source": [
    "def checklogerror():\n",
    "    col = 'logerror'\n",
    "\n",
    "    values = data_sold[col].dropna()\n",
    "    lower = np.percentile(values, 1)\n",
    "    upper = np.percentile(values, 99)\n",
    "    fig = plt.figure(figsize=(18,9));\n",
    "    sns.distplot(values[(values>lower) & (values<upper)], color='Sienna', ax = plt.subplot(121));\n",
    "    sns.boxplot(y=values, color='Sienna', ax = plt.subplot(122));\n",
    "    plt.suptitle(col, fontsize=16);\n",
    "    for col in continuous:     \n",
    "        fig = plt.figure(figsize=(18,9));\n",
    "        sns.barplot(x='logerror_bin', y=col, data=data_sold, ax = plt.subplot(121),\n",
    "                    order=['Large Negative Error', 'Medium Negative Error','Small Error',\n",
    "                           'Medium Positive Error', 'Large Positive Error']);\n",
    "        plt.xlabel('LogError Bin');\n",
    "        plt.ylabel('Average {}'.format(col));\n",
    "        sns.regplot(x='logerror', y=col, data=data_sold, color='Sienna', ax = plt.subplot(122));\n",
    "        plt.suptitle('LogError vs {}'.format(col), fontsize=16)   "
   ]
  },
  {
   "cell_type": "code",
   "execution_count": 18,
   "metadata": {},
   "outputs": [],
   "source": [
    "property_2016.loc[(property_2016['fireplacecnt'] >= 1.0) & (property_2016['fireplaceflag'].isnull()), ['fireplaceflag']] = True\n",
    "property_2016.fireplaceflag.fillna(0,inplace = True)"
   ]
  },
  {
   "cell_type": "code",
   "execution_count": 19,
   "metadata": {},
   "outputs": [],
   "source": [
    "property_2016.garagecarcnt.fillna(0,inplace = True)\n",
    "property_2016.garagetotalsqft.fillna(0,inplace = True)"
   ]
  },
  {
   "cell_type": "code",
   "execution_count": 20,
   "metadata": {},
   "outputs": [],
   "source": [
    "property_2016.taxdelinquencyflag.fillna(0,inplace = True)\n"
   ]
  },
  {
   "cell_type": "code",
   "execution_count": 21,
   "metadata": {},
   "outputs": [],
   "source": [
    "property_2016.taxdelinquencyflag.replace(to_replace = 'Y', value = 1,inplace = True)"
   ]
  },
  {
   "cell_type": "code",
   "execution_count": 22,
   "metadata": {},
   "outputs": [],
   "source": [
    "property_2016.drop('taxdelinquencyyear', axis=1, inplace=True)"
   ]
  },
  {
   "cell_type": "code",
   "execution_count": 23,
   "metadata": {},
   "outputs": [],
   "source": [
    "property_2016.drop('storytypeid', axis=1, inplace=True)"
   ]
  },
  {
   "cell_type": "code",
   "execution_count": 24,
   "metadata": {},
   "outputs": [],
   "source": [
    "property_2016.basementsqft.fillna(0,inplace = True)"
   ]
  },
  {
   "cell_type": "code",
   "execution_count": 25,
   "metadata": {},
   "outputs": [],
   "source": [
    "property_2016.yardbuildingsqft26.fillna(0,inplace = True)"
   ]
  },
  {
   "cell_type": "code",
   "execution_count": 26,
   "metadata": {},
   "outputs": [],
   "source": [
    "property_2016.drop('architecturalstyletypeid', axis=1, inplace=True)"
   ]
  },
  {
   "cell_type": "code",
   "execution_count": 27,
   "metadata": {},
   "outputs": [],
   "source": [
    "property_2016.drop('typeconstructiontypeid', axis=1, inplace=True)\n",
    "property_2016.drop('finishedsquarefeet13', axis=1, inplace=True)"
   ]
  },
  {
   "cell_type": "code",
   "execution_count": 28,
   "metadata": {},
   "outputs": [],
   "source": [
    "property_2016.drop('buildingclasstypeid', axis=1, inplace=True)"
   ]
  },
  {
   "cell_type": "code",
   "execution_count": 29,
   "metadata": {},
   "outputs": [],
   "source": [
    "property_2016.decktypeid.fillna(0,inplace = True)"
   ]
  },
  {
   "cell_type": "code",
   "execution_count": 30,
   "metadata": {},
   "outputs": [],
   "source": [
    "property_2016.decktypeid.replace(to_replace = 66.0, value = 1,inplace = True)"
   ]
  },
  {
   "cell_type": "code",
   "execution_count": 31,
   "metadata": {},
   "outputs": [],
   "source": [
    "property_2016.drop('finishedsquarefeet6', axis=1, inplace=True)"
   ]
  },
  {
   "cell_type": "code",
   "execution_count": 32,
   "metadata": {},
   "outputs": [],
   "source": [
    "property_2016.drop('finishedsquarefeet12', axis=1, inplace=True)"
   ]
  },
  {
   "cell_type": "code",
   "execution_count": 33,
   "metadata": {},
   "outputs": [],
   "source": [
    "property_2016.drop('finishedfloor1squarefeet', axis=1, inplace=True)"
   ]
  },
  {
   "cell_type": "code",
   "execution_count": 34,
   "metadata": {},
   "outputs": [],
   "source": [
    "property_2016['calculatedfinishedsquarefeet'].fillna((property_2016['calculatedfinishedsquarefeet'].mean()), inplace=True)"
   ]
  },
  {
   "cell_type": "code",
   "execution_count": 35,
   "metadata": {},
   "outputs": [],
   "source": [
    "property_2016.loc[property_2016['finishedsquarefeet15'].isnull(),'finishedsquarefeet15'] = property_2016['calculatedfinishedsquarefeet']"
   ]
  },
  {
   "cell_type": "code",
   "execution_count": 36,
   "metadata": {},
   "outputs": [],
   "source": [
    "property_2016.numberofstories.fillna(1,inplace = True)"
   ]
  },
  {
   "cell_type": "code",
   "execution_count": 37,
   "metadata": {},
   "outputs": [],
   "source": [
    "def property():\n",
    "    newDataSet1 = newDataSet.withColumn(\"transac\", lit(1))\n",
    "    ## impute missing values and transfer categorical features into numeric features\n",
    "    string_title = map(str.strip, ['aircon',  'quality',  'heating',  'zoning_landuse_county', 'zoning_landuse', 'zoning_property', 'region_city', 'region_neighbor', 'region_zip', 'build_year', 'no_fip'])\n",
    "\n",
    "    none_fill = dict(zip(string_title, ['unknown']*len(string_title)))\n",
    "\n",
    "    newDataSet1 = newDataSet1.na.fill(none_fill)\n",
    "\n",
    "    att = list()\n",
    "    for i,title in enumerate(string_title):\n",
    "      att = att + newDataSet1.select(title).distinct().rdd.flatMap(lambda x: x).collect()\n",
    "\n",
    "    atts = list(set(att))\n",
    "    n_atts = map(str,range(len(atts)))\n",
    "\n",
    "    for title in string_title:\n",
    "      newDataSet1 = newDataSet1.na.replace(atts, n_atts, title)\n",
    "\n",
    "    num_title = ['id_parcel', 'num_bathroom', 'num_bedroom', 'area_total_calc', 'num_garage', 'area_garage', 'latitude', 'longitude', 'area_lot', 'num_room', 'num_unit', 'num_story', 'tax_building', 'tax_year', 'tax_land', 'tax_property']\n",
    "\n",
    "    for title in num_title:\n",
    "      newDataSet1 = newDataSet1.withColumn(title, newDataSet1[title].cast(DoubleType()))\n",
    "\n",
    "    num_fill = dict()\n",
    "\n",
    "    for title in num_title:\n",
    "      average = newDataSet1.groupBy().avg(title).collect()[0][0]\n",
    "      num_fill[title] = average\n",
    "\n",
    "    newDataSet1 = newDataSet1.na.fill(num_fill)\n",
    "\n",
    "    for title in string_title:\n",
    "      newDataSet1 = newDataSet1.withColumn(title, newDataSet1[title].cast(DoubleType()))  \n",
    "    newDataSet1.rdd.map(list)\n",
    "    new_labeledPoints = newDataSet_rdd.map(lambda x : LabeledPoint(0, Vectors.dense(x[0:])))\n",
    "    predictions = model.predict(new_labeledPoints.map(lambda x: x.features))\n",
    "\n",
    "    ## product an output\n",
    "    id_predictions = newDataSet_rdd.map(lambda l: l[0]).zip(predictions)"
   ]
  },
  {
   "cell_type": "code",
   "execution_count": 38,
   "metadata": {},
   "outputs": [],
   "source": [
    "property_2016.loc[property_2016['numberofstories'] == 1.0,'finishedsquarefeet50'] = property_2016['calculatedfinishedsquarefeet']\n",
    "property_2016['finishedsquarefeet50'].fillna((property_2016['finishedsquarefeet50'].mean()), inplace=True)"
   ]
  },
  {
   "cell_type": "code",
   "execution_count": 39,
   "metadata": {},
   "outputs": [],
   "source": [
    "property_2016.yardbuildingsqft17.fillna(0,inplace = True)"
   ]
  },
  {
   "cell_type": "code",
   "execution_count": 40,
   "metadata": {},
   "outputs": [],
   "source": [
    "bathrooms = property_2016[property_2016['fullbathcnt'].notnull() & property_2016['threequarterbathnbr'].notnull() & property_2016['calculatedbathnbr'].notnull()]\n"
   ]
  },
  {
   "cell_type": "code",
   "execution_count": 41,
   "metadata": {},
   "outputs": [],
   "source": [
    "property_2016.drop('threequarterbathnbr', axis=1, inplace=True)\n"
   ]
  },
  {
   "cell_type": "code",
   "execution_count": 42,
   "metadata": {},
   "outputs": [],
   "source": [
    "property_2016.drop('fullbathcnt', axis=1, inplace=True)"
   ]
  },
  {
   "cell_type": "code",
   "execution_count": 43,
   "metadata": {},
   "outputs": [
    {
     "name": "stderr",
     "output_type": "stream",
     "text": [
      "/Users/yashikagoyal/anaconda3/lib/python3.6/site-packages/ipykernel_launcher.py:1: FutureWarning: 'argmax' is deprecated. Use 'idxmax' instead. The behavior of 'argmax' will be corrected to return the positional maximum in the future. Use 'series.values.argmax' to get the position of the maximum now.\n",
      "  \"\"\"Entry point for launching an IPython kernel.\n"
     ]
    }
   ],
   "source": [
    "bathroommode = property_2016['calculatedbathnbr'].value_counts().argmax()\n",
    "property_2016['calculatedbathnbr'] = property_2016['calculatedbathnbr'].fillna(bathroommode)"
   ]
  },
  {
   "cell_type": "code",
   "execution_count": 44,
   "metadata": {},
   "outputs": [],
   "source": [
    "property_2016.airconditioningtypeid.fillna(5,inplace = True)"
   ]
  },
  {
   "cell_type": "code",
   "execution_count": 45,
   "metadata": {},
   "outputs": [],
   "source": [
    "property_2016.drop('regionidneighborhood', axis=1, inplace=True)"
   ]
  },
  {
   "cell_type": "code",
   "execution_count": 46,
   "metadata": {},
   "outputs": [],
   "source": [
    "property_2016.heatingorsystemtypeid.fillna(13,inplace = True)"
   ]
  },
  {
   "cell_type": "code",
   "execution_count": 47,
   "metadata": {},
   "outputs": [],
   "source": [
    "def xgb():\n",
    "    clf = xgb.XGBClassifier(max_depth=3, n_estimators=300, learning_rate=0.05)\n",
    "    clf.fit(x_train, y_train)\n",
    "    preds = clf.predict(x_test.toarray())\n",
    "    accScore = metrics.accuracy_score(y_test,preds)\n",
    "\n",
    "    precision = metrics.precision_score(y_test,preds,average=None,labels=labels)\n",
    "    recall = metrics.recall_score(y_test,preds,average=None,labels=labels)\n",
    "    f1Score = metrics.f1_score(y_test,preds,average=None,labels=labels)\n",
    "\n",
    "    print(clf)\n",
    "    print(accScore,\"\\n\")\n",
    "    \n",
    "    dtrain = xgb.DMatrix(x_train, label=labels)\n",
    "    watchlist = [(dtest, 'eval'), (dtrain, 'train')]\n",
    "    bst = xgb.train(param, dtrain, num_round, watchlist)\n",
    "    csc = scipy.sparse.csc_matrix((dat, (row, col)))\n",
    "    dtrain = xgb.DMatrix(csc, label=labels)\n",
    "    watchlist = [(dtest, 'eval'), (dtrain, 'train')]\n",
    "    bst = xgb.train(param, dtrain, num_round, watchlist)\n",
    "    npymat = csr.todense()\n",
    "    dtrain = xgb.DMatrix(npymat, label=labels)\n",
    "    watchlist = [(dtest, 'eval'), (dtrain, 'train')]\n",
    "    bst = xgb.train(param, dtrain, num_round, watchlist)\n",
    "\n",
    "  "
   ]
  },
  {
   "cell_type": "code",
   "execution_count": 48,
   "metadata": {},
   "outputs": [
    {
     "name": "stderr",
     "output_type": "stream",
     "text": [
      "/Users/yashikagoyal/anaconda3/lib/python3.6/site-packages/ipykernel_launcher.py:1: FutureWarning: 'argmax' is deprecated. Use 'idxmax' instead. The behavior of 'argmax' will be corrected to return the positional maximum in the future. Use 'series.values.argmax' to get the position of the maximum now.\n",
      "  \"\"\"Entry point for launching an IPython kernel.\n"
     ]
    }
   ],
   "source": [
    "buildingqual = property_2016['buildingqualitytypeid'].value_counts().argmax()\n",
    "\n",
    "property_2016['buildingqualitytypeid'] = property_2016['buildingqualitytypeid'].fillna(buildingqual)"
   ]
  },
  {
   "cell_type": "code",
   "execution_count": 49,
   "metadata": {},
   "outputs": [],
   "source": [
    "property_2016.unitcnt.fillna(1,inplace = True)"
   ]
  },
  {
   "cell_type": "code",
   "execution_count": 50,
   "metadata": {},
   "outputs": [
    {
     "name": "stderr",
     "output_type": "stream",
     "text": [
      "/Users/yashikagoyal/anaconda3/lib/python3.6/site-packages/ipykernel_launcher.py:1: FutureWarning: 'argmax' is deprecated. Use 'idxmax' instead. The behavior of 'argmax' will be corrected to return the positional maximum in the future. Use 'series.values.argmax' to get the position of the maximum now.\n",
      "  \"\"\"Entry point for launching an IPython kernel.\n"
     ]
    }
   ],
   "source": [
    "propertyzoningdesc = property_2016['propertyzoningdesc'].value_counts().argmax()\n",
    "property_2016['propertyzoningdesc'] = property_2016['propertyzoningdesc'].fillna(propertyzoningdesc)"
   ]
  },
  {
   "cell_type": "code",
   "execution_count": 51,
   "metadata": {},
   "outputs": [],
   "source": [
    "property_2016['lotsizesquarefeet'].fillna((property_2016['lotsizesquarefeet'].mean()), inplace=True)"
   ]
  },
  {
   "cell_type": "code",
   "execution_count": 52,
   "metadata": {},
   "outputs": [],
   "source": [
    "property_2016.drop('censustractandblock', axis=1, inplace=True)"
   ]
  },
  {
   "cell_type": "code",
   "execution_count": 53,
   "metadata": {},
   "outputs": [],
   "source": [
    "taxdata = property_2016[property_2016['landtaxvaluedollarcnt'].notnull() & property_2016['structuretaxvaluedollarcnt'].notnull() & property_2016['taxvaluedollarcnt'].notnull() & property_2016['taxamount'].notnull()]\n"
   ]
  },
  {
   "cell_type": "code",
   "execution_count": 54,
   "metadata": {},
   "outputs": [],
   "source": [
    "def dt():\n",
    "    clf = tree.DecisionTreeClassifier()\n",
    "    clf.fit(X_train, y_train)\n",
    "    preds = clf.predict(X_test)\n",
    "    accScore = metrics.accuracy_score(y_test,preds)\n",
    "    labels = range(32)\n",
    "\n",
    "    precision = metrics.precision_score(y_test,preds,average=None,labels=labels)\n",
    "    recall = metrics.recall_score(y_test,preds,average=None,labels=labels)\n",
    "    f1Score = metrics.f1_score(y_test,preds,average=None,labels=labels)\n",
    "\n",
    "    print(clf)\n",
    "    print(\"\\nOverall Acurracy: \",accScore,\"\\n\")\n",
    "\n",
    "    preds = clf.predict_proba(X_test)"
   ]
  },
  {
   "cell_type": "code",
   "execution_count": 55,
   "metadata": {},
   "outputs": [],
   "source": [
    "property_2016.landtaxvaluedollarcnt.fillna(0,inplace = True)\n",
    "\n",
    "property_2016.structuretaxvaluedollarcnt.fillna(0,inplace = True)\n",
    "\n",
    "property_2016['taxvaluedollarcnt'].fillna((property_2016['taxvaluedollarcnt'].mean()), inplace=True)"
   ]
  },
  {
   "cell_type": "code",
   "execution_count": 56,
   "metadata": {},
   "outputs": [],
   "source": [
    "from sklearn.metrics import log_loss\n",
    "def randomForest():\n",
    "    X_train, X_val, y_train, y_val = train_test_split(train_X, train_y, test_size=0.20)\n",
    "\n",
    "    clf1 = RandomForestClassifier(n_estimators=1000)\n",
    "    clf1.fit(X_train, y_train)\n",
    "    y_val_pred = clf1.predict_proba(X_val)\n",
    "   "
   ]
  },
  {
   "cell_type": "code",
   "execution_count": 57,
   "metadata": {},
   "outputs": [],
   "source": [
    "def visulaize():\n",
    "    ulimit = np.percentile(train.price.values, 99)\n",
    "    train['logerror'].ix[train['logerror']>ulimit] = ulimit\n",
    "\n",
    "\n",
    "    plt.figure(figsize=(8, 10))\n",
    "    plt.scatter(range(train.shape[0]), train[\"logerror\"].values,color='purple')\n",
    "    \n",
    "    "
   ]
  },
  {
   "cell_type": "code",
   "execution_count": 58,
   "metadata": {},
   "outputs": [],
   "source": [
    "property_2016['taxpercentage'] = property_2016['taxamount'] / property_2016['taxvaluedollarcnt']\n"
   ]
  },
  {
   "cell_type": "code",
   "execution_count": 59,
   "metadata": {},
   "outputs": [],
   "source": [
    "property_2016['taxpercentage'].fillna((property_2016['taxpercentage'].mean()), inplace=True)"
   ]
  },
  {
   "cell_type": "code",
   "execution_count": 60,
   "metadata": {},
   "outputs": [],
   "source": [
    "property_2016.drop('taxamount', axis=1, inplace=True)"
   ]
  },
  {
   "cell_type": "code",
   "execution_count": 61,
   "metadata": {},
   "outputs": [],
   "source": [
    "def catboost():\n",
    "    \n",
    "    model = CatBoostClassifier(\n",
    "    custom_loss=['Accuracy'],\n",
    "    random_seed=42,\n",
    "    logging_level='Silent'\n",
    "    )\n",
    "    model.fit(\n",
    "    X_train, y_train,\n",
    "    cat_features=categorical_features_indices,\n",
    "    eval_set=(X_validation, y_validation),\n",
    "    logging_level='Verbose',  # you can uncomment this for text output\n",
    "    plot=True);\n",
    "    cv_data = cv(\n",
    "    Pool(X, y, cat_features=categorical_features_indices),\n",
    "    model.get_params(),\n",
    "    plot=True)\n",
    "    \n",
    "    predictions = model.predict(X_test)\n",
    "    predictions_probs = model.predict_proba(X_test)\n",
    "    print(predictions[:10])\n",
    "    print(predictions_probs[:10])\n",
    "    model_without_seed = CatBoostClassifier(iterations=10, logging_level='Silent')\n",
    "    model_without_seed.fit(X, y, cat_features=categorical_features_indices)\n",
    "    model = CatBoostClassifier(**params)\n",
    "    model.fit(train_pool, eval_set=validate_pool)\n",
    "\n",
    "    best_model_params = params.copy()\n",
    "    best_model_params.update({\n",
    "        'use_best_model': True\n",
    "    })\n",
    "    best_model = CatBoostClassifier(**best_model_params)\n",
    "    best_model.fit(train_pool, eval_set=validate_pool);"
   ]
  },
  {
   "cell_type": "code",
   "execution_count": 62,
   "metadata": {},
   "outputs": [],
   "source": [
    "property_2016.drop('regionidcity', axis=1, inplace=True)"
   ]
  },
  {
   "cell_type": "code",
   "execution_count": 63,
   "metadata": {},
   "outputs": [
    {
     "name": "stderr",
     "output_type": "stream",
     "text": [
      "/Users/yashikagoyal/anaconda3/lib/python3.6/site-packages/ipykernel_launcher.py:1: FutureWarning: 'argmax' is deprecated. Use 'idxmax' instead. The behavior of 'argmax' will be corrected to return the positional maximum in the future. Use 'series.values.argmax' to get the position of the maximum now.\n",
      "  \"\"\"Entry point for launching an IPython kernel.\n"
     ]
    }
   ],
   "source": [
    "yearbuilt = property_2016['yearbuilt'].value_counts().argmax()\n",
    "property_2016['yearbuilt'] = property_2016['yearbuilt'].fillna(yearbuilt)\n"
   ]
  },
  {
   "cell_type": "code",
   "execution_count": 64,
   "metadata": {},
   "outputs": [
    {
     "name": "stderr",
     "output_type": "stream",
     "text": [
      "/Users/yashikagoyal/anaconda3/lib/python3.6/site-packages/ipykernel_launcher.py:1: FutureWarning: 'argmax' is deprecated. Use 'idxmax' instead. The behavior of 'argmax' will be corrected to return the positional maximum in the future. Use 'series.values.argmax' to get the position of the maximum now.\n",
      "  \"\"\"Entry point for launching an IPython kernel.\n",
      "/Users/yashikagoyal/anaconda3/lib/python3.6/site-packages/ipykernel_launcher.py:4: FutureWarning: 'argmax' is deprecated. Use 'idxmax' instead. The behavior of 'argmax' will be corrected to return the positional maximum in the future. Use 'series.values.argmax' to get the position of the maximum now.\n",
      "  after removing the cwd from sys.path.\n",
      "/Users/yashikagoyal/anaconda3/lib/python3.6/site-packages/ipykernel_launcher.py:9: FutureWarning: 'argmax' is deprecated. Use 'idxmax' instead. The behavior of 'argmax' will be corrected to return the positional maximum in the future. Use 'series.values.argmax' to get the position of the maximum now.\n",
      "  if __name__ == '__main__':\n",
      "/Users/yashikagoyal/anaconda3/lib/python3.6/site-packages/ipykernel_launcher.py:12: FutureWarning: 'argmax' is deprecated. Use 'idxmax' instead. The behavior of 'argmax' will be corrected to return the positional maximum in the future. Use 'series.values.argmax' to get the position of the maximum now.\n",
      "  if sys.path[0] == '':\n",
      "/Users/yashikagoyal/anaconda3/lib/python3.6/site-packages/ipykernel_launcher.py:15: FutureWarning: 'argmax' is deprecated. Use 'idxmax' instead. The behavior of 'argmax' will be corrected to return the positional maximum in the future. Use 'series.values.argmax' to get the position of the maximum now.\n",
      "  from ipykernel import kernelapp as app\n",
      "/Users/yashikagoyal/anaconda3/lib/python3.6/site-packages/ipykernel_launcher.py:18: FutureWarning: 'argmax' is deprecated. Use 'idxmax' instead. The behavior of 'argmax' will be corrected to return the positional maximum in the future. Use 'series.values.argmax' to get the position of the maximum now.\n",
      "/Users/yashikagoyal/anaconda3/lib/python3.6/site-packages/ipykernel_launcher.py:21: FutureWarning: 'argmax' is deprecated. Use 'idxmax' instead. The behavior of 'argmax' will be corrected to return the positional maximum in the future. Use 'series.values.argmax' to get the position of the maximum now.\n",
      "/Users/yashikagoyal/anaconda3/lib/python3.6/site-packages/ipykernel_launcher.py:24: FutureWarning: 'argmax' is deprecated. Use 'idxmax' instead. The behavior of 'argmax' will be corrected to return the positional maximum in the future. Use 'series.values.argmax' to get the position of the maximum now.\n",
      "/Users/yashikagoyal/anaconda3/lib/python3.6/site-packages/ipykernel_launcher.py:27: FutureWarning: 'argmax' is deprecated. Use 'idxmax' instead. The behavior of 'argmax' will be corrected to return the positional maximum in the future. Use 'series.values.argmax' to get the position of the maximum now.\n",
      "/Users/yashikagoyal/anaconda3/lib/python3.6/site-packages/ipykernel_launcher.py:30: FutureWarning: 'argmax' is deprecated. Use 'idxmax' instead. The behavior of 'argmax' will be corrected to return the positional maximum in the future. Use 'series.values.argmax' to get the position of the maximum now.\n",
      "/Users/yashikagoyal/anaconda3/lib/python3.6/site-packages/ipykernel_launcher.py:33: FutureWarning: 'argmax' is deprecated. Use 'idxmax' instead. The behavior of 'argmax' will be corrected to return the positional maximum in the future. Use 'series.values.argmax' to get the position of the maximum now.\n"
     ]
    }
   ],
   "source": [
    "fips = property_2016['fips'].value_counts().argmax()\n",
    "property_2016['fips'] = property_2016['fips'].fillna(fips)\n",
    "\n",
    "propertylandusetypeid = property_2016['propertylandusetypeid'].value_counts().argmax()\n",
    "property_2016['propertylandusetypeid'] = property_2016['propertylandusetypeid'].fillna(propertylandusetypeid)\n",
    "\n",
    "property_2016.drop('regionidcounty', axis=1, inplace=True)\n",
    "\n",
    "latitude = property_2016['latitude'].value_counts().argmax()\n",
    "property_2016['latitude'] = property_2016['latitude'].fillna(latitude)\n",
    "\n",
    "longitude = property_2016['longitude'].value_counts().argmax()\n",
    "property_2016['longitude'] = property_2016['longitude'].fillna(longitude)\n",
    "\n",
    "rawcensustractandblock = property_2016['rawcensustractandblock'].value_counts().argmax()\n",
    "property_2016['rawcensustractandblock'] = property_2016['rawcensustractandblock'].fillna(rawcensustractandblock)\n",
    "\n",
    "assessmentyear = property_2016['assessmentyear'].value_counts().argmax()\n",
    "property_2016['assessmentyear'] = property_2016['assessmentyear'].fillna(assessmentyear)\n",
    "\n",
    "bedroomcnt = property_2016['bedroomcnt'].value_counts().argmax()\n",
    "property_2016['bedroomcnt'] = property_2016['bedroomcnt'].fillna(bedroomcnt)\n",
    "\n",
    "bathroomcnt = property_2016['bathroomcnt'].value_counts().argmax()\n",
    "property_2016['bathroomcnt'] = property_2016['bathroomcnt'].fillna(bathroomcnt)\n",
    "\n",
    "roomcnt = property_2016['roomcnt'].value_counts().argmax()\n",
    "property_2016['roomcnt'] = property_2016['roomcnt'].fillna(roomcnt)\n",
    "\n",
    "propertycountylandusecode = property_2016['propertycountylandusecode'].value_counts().argmax()\n",
    "property_2016['propertycountylandusecode'] = property_2016['propertycountylandusecode'].fillna(propertycountylandusecode)\n",
    "\n",
    "regionidzip = property_2016['regionidzip'].value_counts().argmax()\n",
    "property_2016['regionidzip'] = property_2016['regionidzip'].fillna(regionidzip)"
   ]
  },
  {
   "cell_type": "code",
   "execution_count": 65,
   "metadata": {},
   "outputs": [],
   "source": [
    "from sklearn.ensemble import AdaBoostClassifier\n",
    "def adaBoost():\n",
    "    clf = AdaBoostClassifier()\n",
    "    scores1 = cross_val_score(clf, x_train, y_train, cv=100)\n",
    "    scores1.max()"
   ]
  },
  {
   "cell_type": "code",
   "execution_count": 66,
   "metadata": {},
   "outputs": [],
   "source": [
    "trainWithMonths = trainData"
   ]
  },
  {
   "cell_type": "code",
   "execution_count": 67,
   "metadata": {},
   "outputs": [],
   "source": [
    "\n",
    "trainWithMonths['sale_month'] = trainWithMonths['transactiondate'].apply(lambda x: (x.to_pydatetime()).month)\n",
    "trainWithMonths['sale_day'] = trainWithMonths['transactiondate'].apply(lambda x: (x.to_pydatetime()).day)\n",
    "trainWithMonths['sale_year'] = trainWithMonths['transactiondate'].apply(lambda x: (x.to_pydatetime()).year)"
   ]
  },
  {
   "cell_type": "code",
   "execution_count": 68,
   "metadata": {},
   "outputs": [],
   "source": [
    "property_2016['taxpersqft'] = property_2016['taxvaluedollarcnt'] / property_2016['calculatedfinishedsquarefeet']\n",
    "property_2016['bathpersqft'] = property_2016['bathroomcnt'] / property_2016['calculatedfinishedsquarefeet']\n",
    "property_2016['roompersqft'] = property_2016['roomcnt'] / property_2016['calculatedfinishedsquarefeet']\n",
    "property_2016['bedroompersqft'] = property_2016['bedroomcnt'] / property_2016['calculatedfinishedsquarefeet']"
   ]
  },
  {
   "cell_type": "code",
   "execution_count": 69,
   "metadata": {},
   "outputs": [],
   "source": [
    "def label():\n",
    "    X_train, X_test, y_train, y_test = train_test_split(features, y, test_size = 0.15, random_state = 0)\n",
    "\n",
    "    ylabel=LabelEncoder()\n",
    "    ylabel.fit(y_train)\n",
    "    y_train= ylabel.transform(y_train)\n",
    "    y_test= ylabel.fit_transform(y_test)\n",
    "\n",
    "    X_train[\"Mean Temperature\"].fillna(X_train[\"Mean Temperature\"].mean(), inplace=True)\n",
    "    X_test[\"Mean Temperature\"].fillna(X_test[\"Mean Temperature\"].mean(), inplace=True)\n",
    "\n",
    "    rand_forest = RandomForestClassifier()\n",
    "    rand_forest.fit(X_train, y_train)\n",
    "    y_predrf = rand_forest.predict(X_test)\n",
    "\n",
    "    print (\"Accuracy is \", accuracy_score(y_test,y_predrf)*100)\n",
    "\n",
    "    fileObject = open('models/cw_r_forest','wb')\n",
    "    pickle.dump(rand_forest, fileObject) \n",
    "    fileObject.close()"
   ]
  },
  {
   "cell_type": "code",
   "execution_count": 70,
   "metadata": {},
   "outputs": [],
   "source": [
    "merged_data = trainData.merge(property_2016,on='parcelid',how='left')"
   ]
  },
  {
   "cell_type": "code",
   "execution_count": 71,
   "metadata": {},
   "outputs": [],
   "source": [
    "trainData.drop(['sale_month','sale_year'],axis=1,inplace=True)\n",
    "trainData.drop(['sale_day'],axis=1,inplace=True)"
   ]
  },
  {
   "cell_type": "code",
   "execution_count": 72,
   "metadata": {},
   "outputs": [],
   "source": [
    "import gc"
   ]
  },
  {
   "cell_type": "code",
   "execution_count": 73,
   "metadata": {},
   "outputs": [],
   "source": [
    "for c, dtype in zip(merged_data.columns, merged_data.dtypes):\t\n",
    "    if dtype == np.float64 or dtype == np.int64:\t\t\n",
    "        merged_data[c] = merged_data[c].astype(np.float32)\n",
    "\n",
    "df_train = merged_data"
   ]
  },
  {
   "cell_type": "code",
   "execution_count": 74,
   "metadata": {},
   "outputs": [],
   "source": [
    "merged_data.drop(['sale_month'],axis=1,inplace=True)\n",
    "merged_data.drop(['sale_year','sale_day'],axis=1,inplace=True)"
   ]
  },
  {
   "cell_type": "code",
   "execution_count": 75,
   "metadata": {},
   "outputs": [],
   "source": [
    "x_train = df_train.drop(['parcelid'], axis=1)\n",
    "x_train = x_train.drop(['logerror' ], axis=1)\n",
    "x_train = x_train.drop(['transactiondate'], axis=1)\n",
    "x_train = x_train.drop(['propertyzoningdesc'], axis=1)\n",
    "x_train = x_train.drop(['propertycountylandusecode'], axis=1)\n",
    "\n",
    "y_train = df_train['logerror'].values"
   ]
  },
  {
   "cell_type": "code",
   "execution_count": 76,
   "metadata": {},
   "outputs": [],
   "source": [
    "train_columns = x_train.columns\n",
    "temp = x_train.dtypes[x_train.dtypes == object].index.values\n",
    "for c in temp:\n",
    "    x_train[c] = (x_train[c] == True)\n",
    "    \n",
    "split = 90000\n",
    "x_train, y_train, x_valid, y_valid = x_train[:split], y_train[:split], x_train[split:], y_train[split:]\n",
    "x_train = x_train.values.astype(np.float32, copy=False)\n",
    "x_valid = x_valid.values.astype(np.float32, copy=False)\n",
    "\n",
    "d_train = lgb.Dataset(x_train, label=y_train)\n",
    "d_valid = lgb.Dataset(x_valid, label=y_valid)\n",
    "\n",
    "params = {}\n",
    "params['learning_rate'] = 0.002\n",
    "params['boosting_type'] = 'gbdt'\n",
    "params['objective'] = 'regression'\n",
    "params['metric'] = 'mae'\n",
    "params['sub_feature'] = 0.5\n",
    "params['num_leaves'] = 60\n",
    "params['min_data'] = 500\n",
    "params['min_hessian'] = 1"
   ]
  },
  {
   "cell_type": "code",
   "execution_count": 77,
   "metadata": {},
   "outputs": [
    {
     "name": "stdout",
     "output_type": "stream",
     "text": [
      "[1]\tvalid_0's l1: 0.0721294\n",
      "[2]\tvalid_0's l1: 0.0721329\n",
      "[3]\tvalid_0's l1: 0.0721344\n",
      "[4]\tvalid_0's l1: 0.0721283\n",
      "[5]\tvalid_0's l1: 0.0721227\n",
      "[6]\tvalid_0's l1: 0.0721252\n",
      "[7]\tvalid_0's l1: 0.0721222\n",
      "[8]\tvalid_0's l1: 0.0721183\n",
      "[9]\tvalid_0's l1: 0.0721217\n",
      "[10]\tvalid_0's l1: 0.0721174\n",
      "[11]\tvalid_0's l1: 0.0721187\n",
      "[12]\tvalid_0's l1: 0.0721202\n",
      "[13]\tvalid_0's l1: 0.0721149\n",
      "[14]\tvalid_0's l1: 0.0721148\n",
      "[15]\tvalid_0's l1: 0.0721153\n",
      "[16]\tvalid_0's l1: 0.0721101\n",
      "[17]\tvalid_0's l1: 0.0721074\n",
      "[18]\tvalid_0's l1: 0.0721016\n",
      "[19]\tvalid_0's l1: 0.0720983\n",
      "[20]\tvalid_0's l1: 0.0720967\n",
      "[21]\tvalid_0's l1: 0.0720934\n",
      "[22]\tvalid_0's l1: 0.072088\n",
      "[23]\tvalid_0's l1: 0.0720897\n",
      "[24]\tvalid_0's l1: 0.0720856\n",
      "[25]\tvalid_0's l1: 0.0720852\n",
      "[26]\tvalid_0's l1: 0.0720785\n",
      "[27]\tvalid_0's l1: 0.0720798\n",
      "[28]\tvalid_0's l1: 0.0720747\n",
      "[29]\tvalid_0's l1: 0.0720719\n",
      "[30]\tvalid_0's l1: 0.07207\n",
      "[31]\tvalid_0's l1: 0.0720694\n",
      "[32]\tvalid_0's l1: 0.0720701\n",
      "[33]\tvalid_0's l1: 0.0720667\n",
      "[34]\tvalid_0's l1: 0.0720617\n",
      "[35]\tvalid_0's l1: 0.0720621\n",
      "[36]\tvalid_0's l1: 0.0720626\n",
      "[37]\tvalid_0's l1: 0.0720605\n",
      "[38]\tvalid_0's l1: 0.0720598\n",
      "[39]\tvalid_0's l1: 0.0720602\n",
      "[40]\tvalid_0's l1: 0.0720535\n",
      "[41]\tvalid_0's l1: 0.0720524\n",
      "[42]\tvalid_0's l1: 0.0720525\n",
      "[43]\tvalid_0's l1: 0.0720532\n",
      "[44]\tvalid_0's l1: 0.0720485\n",
      "[45]\tvalid_0's l1: 0.072045\n",
      "[46]\tvalid_0's l1: 0.0720473\n",
      "[47]\tvalid_0's l1: 0.0720414\n",
      "[48]\tvalid_0's l1: 0.0720373\n",
      "[49]\tvalid_0's l1: 0.0720389\n",
      "[50]\tvalid_0's l1: 0.0720361\n",
      "[51]\tvalid_0's l1: 0.0720345\n",
      "[52]\tvalid_0's l1: 0.0720337\n",
      "[53]\tvalid_0's l1: 0.0720347\n",
      "[54]\tvalid_0's l1: 0.0720369\n",
      "[55]\tvalid_0's l1: 0.0720347\n",
      "[56]\tvalid_0's l1: 0.0720295\n",
      "[57]\tvalid_0's l1: 0.0720284\n",
      "[58]\tvalid_0's l1: 0.0720242\n",
      "[59]\tvalid_0's l1: 0.0720198\n",
      "[60]\tvalid_0's l1: 0.0720206\n",
      "[61]\tvalid_0's l1: 0.0720172\n",
      "[62]\tvalid_0's l1: 0.0720123\n",
      "[63]\tvalid_0's l1: 0.0720109\n",
      "[64]\tvalid_0's l1: 0.0720104\n",
      "[65]\tvalid_0's l1: 0.0720116\n",
      "[66]\tvalid_0's l1: 0.0720107\n",
      "[67]\tvalid_0's l1: 0.0720059\n",
      "[68]\tvalid_0's l1: 0.0720033\n",
      "[69]\tvalid_0's l1: 0.0720027\n",
      "[70]\tvalid_0's l1: 0.0720017\n",
      "[71]\tvalid_0's l1: 0.071997\n",
      "[72]\tvalid_0's l1: 0.0719927\n",
      "[73]\tvalid_0's l1: 0.0719901\n",
      "[74]\tvalid_0's l1: 0.0719913\n",
      "[75]\tvalid_0's l1: 0.0719894\n",
      "[76]\tvalid_0's l1: 0.0719879\n",
      "[77]\tvalid_0's l1: 0.0719821\n",
      "[78]\tvalid_0's l1: 0.0719808\n",
      "[79]\tvalid_0's l1: 0.0719807\n",
      "[80]\tvalid_0's l1: 0.0719833\n",
      "[81]\tvalid_0's l1: 0.0719789\n",
      "[82]\tvalid_0's l1: 0.0719766\n",
      "[83]\tvalid_0's l1: 0.0719755\n",
      "[84]\tvalid_0's l1: 0.0719708\n",
      "[85]\tvalid_0's l1: 0.0719669\n",
      "[86]\tvalid_0's l1: 0.0719654\n",
      "[87]\tvalid_0's l1: 0.0719676\n",
      "[88]\tvalid_0's l1: 0.0719653\n",
      "[89]\tvalid_0's l1: 0.0719671\n",
      "[90]\tvalid_0's l1: 0.071963\n",
      "[91]\tvalid_0's l1: 0.0719636\n",
      "[92]\tvalid_0's l1: 0.0719619\n",
      "[93]\tvalid_0's l1: 0.07196\n",
      "[94]\tvalid_0's l1: 0.071954\n",
      "[95]\tvalid_0's l1: 0.0719545\n",
      "[96]\tvalid_0's l1: 0.0719533\n",
      "[97]\tvalid_0's l1: 0.0719496\n",
      "[98]\tvalid_0's l1: 0.0719461\n",
      "[99]\tvalid_0's l1: 0.0719448\n",
      "[100]\tvalid_0's l1: 0.0719459\n",
      "[101]\tvalid_0's l1: 0.0719412\n",
      "[102]\tvalid_0's l1: 0.0719376\n",
      "[103]\tvalid_0's l1: 0.071937\n",
      "[104]\tvalid_0's l1: 0.071936\n",
      "[105]\tvalid_0's l1: 0.0719311\n",
      "[106]\tvalid_0's l1: 0.0719287\n",
      "[107]\tvalid_0's l1: 0.07193\n",
      "[108]\tvalid_0's l1: 0.0719267\n",
      "[109]\tvalid_0's l1: 0.0719226\n",
      "[110]\tvalid_0's l1: 0.0719233\n",
      "[111]\tvalid_0's l1: 0.0719205\n",
      "[112]\tvalid_0's l1: 0.0719192\n",
      "[113]\tvalid_0's l1: 0.071916\n",
      "[114]\tvalid_0's l1: 0.0719154\n",
      "[115]\tvalid_0's l1: 0.0719111\n",
      "[116]\tvalid_0's l1: 0.07191\n",
      "[117]\tvalid_0's l1: 0.0719093\n",
      "[118]\tvalid_0's l1: 0.0719049\n",
      "[119]\tvalid_0's l1: 0.0719043\n",
      "[120]\tvalid_0's l1: 0.0719023\n",
      "[121]\tvalid_0's l1: 0.0719028\n",
      "[122]\tvalid_0's l1: 0.0719026\n",
      "[123]\tvalid_0's l1: 0.071901\n",
      "[124]\tvalid_0's l1: 0.0718964\n",
      "[125]\tvalid_0's l1: 0.0718941\n",
      "[126]\tvalid_0's l1: 0.0718911\n",
      "[127]\tvalid_0's l1: 0.0718906\n",
      "[128]\tvalid_0's l1: 0.0718904\n",
      "[129]\tvalid_0's l1: 0.0718894\n",
      "[130]\tvalid_0's l1: 0.0718876\n",
      "[131]\tvalid_0's l1: 0.0718842\n",
      "[132]\tvalid_0's l1: 0.0718828\n",
      "[133]\tvalid_0's l1: 0.0718773\n",
      "[134]\tvalid_0's l1: 0.0718747\n",
      "[135]\tvalid_0's l1: 0.0718735\n",
      "[136]\tvalid_0's l1: 0.0718711\n",
      "[137]\tvalid_0's l1: 0.0718671\n",
      "[138]\tvalid_0's l1: 0.0718664\n",
      "[139]\tvalid_0's l1: 0.0718687\n",
      "[140]\tvalid_0's l1: 0.071864\n",
      "[141]\tvalid_0's l1: 0.0718642\n",
      "[142]\tvalid_0's l1: 0.071865\n",
      "[143]\tvalid_0's l1: 0.0718661\n",
      "[144]\tvalid_0's l1: 0.0718667\n",
      "[145]\tvalid_0's l1: 0.0718677\n",
      "[146]\tvalid_0's l1: 0.0718686\n",
      "[147]\tvalid_0's l1: 0.0718678\n",
      "[148]\tvalid_0's l1: 0.0718654\n",
      "[149]\tvalid_0's l1: 0.0718661\n",
      "[150]\tvalid_0's l1: 0.0718661\n",
      "[151]\tvalid_0's l1: 0.0718633\n",
      "[152]\tvalid_0's l1: 0.0718585\n",
      "[153]\tvalid_0's l1: 0.0718549\n",
      "[154]\tvalid_0's l1: 0.0718529\n",
      "[155]\tvalid_0's l1: 0.0718537\n",
      "[156]\tvalid_0's l1: 0.0718515\n",
      "[157]\tvalid_0's l1: 0.0718501\n",
      "[158]\tvalid_0's l1: 0.0718508\n",
      "[159]\tvalid_0's l1: 0.0718482\n",
      "[160]\tvalid_0's l1: 0.0718476\n",
      "[161]\tvalid_0's l1: 0.0718489\n",
      "[162]\tvalid_0's l1: 0.0718484\n",
      "[163]\tvalid_0's l1: 0.0718495\n",
      "[164]\tvalid_0's l1: 0.07185\n",
      "[165]\tvalid_0's l1: 0.0718503\n",
      "[166]\tvalid_0's l1: 0.0718501\n",
      "[167]\tvalid_0's l1: 0.0718508\n",
      "[168]\tvalid_0's l1: 0.0718518\n",
      "[169]\tvalid_0's l1: 0.0718539\n",
      "[170]\tvalid_0's l1: 0.0718534\n",
      "[171]\tvalid_0's l1: 0.0718522\n",
      "[172]\tvalid_0's l1: 0.0718464\n",
      "[173]\tvalid_0's l1: 0.0718461\n",
      "[174]\tvalid_0's l1: 0.0718469\n",
      "[175]\tvalid_0's l1: 0.0718487\n",
      "[176]\tvalid_0's l1: 0.0718471\n",
      "[177]\tvalid_0's l1: 0.0718483\n",
      "[178]\tvalid_0's l1: 0.0718474\n",
      "[179]\tvalid_0's l1: 0.0718483\n",
      "[180]\tvalid_0's l1: 0.0718491\n",
      "[181]\tvalid_0's l1: 0.0718499\n",
      "[182]\tvalid_0's l1: 0.0718541\n",
      "[183]\tvalid_0's l1: 0.0718516\n",
      "[184]\tvalid_0's l1: 0.0718524\n",
      "[185]\tvalid_0's l1: 0.0718551\n",
      "[186]\tvalid_0's l1: 0.0718504\n",
      "[187]\tvalid_0's l1: 0.0718497\n",
      "[188]\tvalid_0's l1: 0.0718466\n",
      "[189]\tvalid_0's l1: 0.0718465\n",
      "[190]\tvalid_0's l1: 0.0718442\n",
      "[191]\tvalid_0's l1: 0.0718476\n",
      "[192]\tvalid_0's l1: 0.0718439\n",
      "[193]\tvalid_0's l1: 0.0718411\n",
      "[194]\tvalid_0's l1: 0.0718375\n",
      "[195]\tvalid_0's l1: 0.0718391\n",
      "[196]\tvalid_0's l1: 0.0718374\n",
      "[197]\tvalid_0's l1: 0.0718389\n",
      "[198]\tvalid_0's l1: 0.0718368\n",
      "[199]\tvalid_0's l1: 0.0718372\n",
      "[200]\tvalid_0's l1: 0.0718367\n",
      "[201]\tvalid_0's l1: 0.0718333\n",
      "[202]\tvalid_0's l1: 0.0718303\n",
      "[203]\tvalid_0's l1: 0.0718311\n",
      "[204]\tvalid_0's l1: 0.0718269\n",
      "[205]\tvalid_0's l1: 0.0718252\n",
      "[206]\tvalid_0's l1: 0.0718274\n",
      "[207]\tvalid_0's l1: 0.0718258\n",
      "[208]\tvalid_0's l1: 0.0718231\n",
      "[209]\tvalid_0's l1: 0.0718226\n",
      "[210]\tvalid_0's l1: 0.0718217\n",
      "[211]\tvalid_0's l1: 0.0718191\n",
      "[212]\tvalid_0's l1: 0.0718141\n",
      "[213]\tvalid_0's l1: 0.0718138\n",
      "[214]\tvalid_0's l1: 0.0718124\n",
      "[215]\tvalid_0's l1: 0.0718132\n",
      "[216]\tvalid_0's l1: 0.0718145\n",
      "[217]\tvalid_0's l1: 0.0718148\n",
      "[218]\tvalid_0's l1: 0.0718161\n",
      "[219]\tvalid_0's l1: 0.0718149\n",
      "[220]\tvalid_0's l1: 0.0718169\n",
      "[221]\tvalid_0's l1: 0.0718186\n",
      "[222]\tvalid_0's l1: 0.0718169\n",
      "[223]\tvalid_0's l1: 0.071814\n",
      "[224]\tvalid_0's l1: 0.0718128\n",
      "[225]\tvalid_0's l1: 0.0718096\n",
      "[226]\tvalid_0's l1: 0.071809\n",
      "[227]\tvalid_0's l1: 0.071808\n",
      "[228]\tvalid_0's l1: 0.0718102\n",
      "[229]\tvalid_0's l1: 0.071809\n",
      "[230]\tvalid_0's l1: 0.0718078\n",
      "[231]\tvalid_0's l1: 0.0718077\n",
      "[232]\tvalid_0's l1: 0.0718074\n",
      "[233]\tvalid_0's l1: 0.0718033\n",
      "[234]\tvalid_0's l1: 0.0718041\n",
      "[235]\tvalid_0's l1: 0.0718033\n",
      "[236]\tvalid_0's l1: 0.0718024\n",
      "[237]\tvalid_0's l1: 0.0718004\n",
      "[238]\tvalid_0's l1: 0.0718014\n",
      "[239]\tvalid_0's l1: 0.0718023\n",
      "[240]\tvalid_0's l1: 0.0718037\n",
      "[241]\tvalid_0's l1: 0.0718005\n",
      "[242]\tvalid_0's l1: 0.0717964\n",
      "[243]\tvalid_0's l1: 0.0717948\n",
      "[244]\tvalid_0's l1: 0.0717945\n",
      "[245]\tvalid_0's l1: 0.0717897\n",
      "[246]\tvalid_0's l1: 0.0717873\n",
      "[247]\tvalid_0's l1: 0.0717856\n",
      "[248]\tvalid_0's l1: 0.0717865\n",
      "[249]\tvalid_0's l1: 0.0717848\n",
      "[250]\tvalid_0's l1: 0.0717833\n",
      "[251]\tvalid_0's l1: 0.0717802\n",
      "[252]\tvalid_0's l1: 0.0717815\n",
      "[253]\tvalid_0's l1: 0.0717835\n",
      "[254]\tvalid_0's l1: 0.0717855\n",
      "[255]\tvalid_0's l1: 0.0717807\n",
      "[256]\tvalid_0's l1: 0.0717797\n",
      "[257]\tvalid_0's l1: 0.0717817\n",
      "[258]\tvalid_0's l1: 0.0717822\n",
      "[259]\tvalid_0's l1: 0.0717804\n",
      "[260]\tvalid_0's l1: 0.071779\n",
      "[261]\tvalid_0's l1: 0.071781\n",
      "[262]\tvalid_0's l1: 0.0717822\n",
      "[263]\tvalid_0's l1: 0.0717773\n",
      "[264]\tvalid_0's l1: 0.0717751\n",
      "[265]\tvalid_0's l1: 0.0717738\n",
      "[266]\tvalid_0's l1: 0.0717732\n",
      "[267]\tvalid_0's l1: 0.0717728\n",
      "[268]\tvalid_0's l1: 0.0717711\n",
      "[269]\tvalid_0's l1: 0.0717691\n",
      "[270]\tvalid_0's l1: 0.0717729\n",
      "[271]\tvalid_0's l1: 0.0717684\n",
      "[272]\tvalid_0's l1: 0.0717691\n",
      "[273]\tvalid_0's l1: 0.0717663\n",
      "[274]\tvalid_0's l1: 0.0717653\n",
      "[275]\tvalid_0's l1: 0.0717679\n",
      "[276]\tvalid_0's l1: 0.0717688\n",
      "[277]\tvalid_0's l1: 0.0717703\n",
      "[278]\tvalid_0's l1: 0.0717693\n",
      "[279]\tvalid_0's l1: 0.0717689\n",
      "[280]\tvalid_0's l1: 0.0717651\n",
      "[281]\tvalid_0's l1: 0.0717664\n",
      "[282]\tvalid_0's l1: 0.0717675\n",
      "[283]\tvalid_0's l1: 0.0717671\n",
      "[284]\tvalid_0's l1: 0.0717712\n",
      "[285]\tvalid_0's l1: 0.0717711\n"
     ]
    },
    {
     "name": "stdout",
     "output_type": "stream",
     "text": [
      "[286]\tvalid_0's l1: 0.0717679\n",
      "[287]\tvalid_0's l1: 0.0717682\n",
      "[288]\tvalid_0's l1: 0.0717667\n",
      "[289]\tvalid_0's l1: 0.0717672\n",
      "[290]\tvalid_0's l1: 0.0717689\n",
      "[291]\tvalid_0's l1: 0.0717635\n",
      "[292]\tvalid_0's l1: 0.0717618\n",
      "[293]\tvalid_0's l1: 0.0717596\n",
      "[294]\tvalid_0's l1: 0.0717592\n",
      "[295]\tvalid_0's l1: 0.071759\n",
      "[296]\tvalid_0's l1: 0.071758\n",
      "[297]\tvalid_0's l1: 0.0717557\n",
      "[298]\tvalid_0's l1: 0.0717549\n",
      "[299]\tvalid_0's l1: 0.0717518\n",
      "[300]\tvalid_0's l1: 0.0717534\n",
      "[301]\tvalid_0's l1: 0.0717574\n",
      "[302]\tvalid_0's l1: 0.0717591\n",
      "[303]\tvalid_0's l1: 0.0717592\n",
      "[304]\tvalid_0's l1: 0.071756\n",
      "[305]\tvalid_0's l1: 0.0717582\n",
      "[306]\tvalid_0's l1: 0.0717602\n",
      "[307]\tvalid_0's l1: 0.0717582\n",
      "[308]\tvalid_0's l1: 0.071759\n",
      "[309]\tvalid_0's l1: 0.071759\n",
      "[310]\tvalid_0's l1: 0.0717569\n",
      "[311]\tvalid_0's l1: 0.071757\n",
      "[312]\tvalid_0's l1: 0.0717546\n",
      "[313]\tvalid_0's l1: 0.0717539\n",
      "[314]\tvalid_0's l1: 0.071752\n",
      "[315]\tvalid_0's l1: 0.0717524\n",
      "[316]\tvalid_0's l1: 0.0717487\n",
      "[317]\tvalid_0's l1: 0.0717497\n",
      "[318]\tvalid_0's l1: 0.0717494\n",
      "[319]\tvalid_0's l1: 0.0717501\n",
      "[320]\tvalid_0's l1: 0.0717483\n",
      "[321]\tvalid_0's l1: 0.0717471\n",
      "[322]\tvalid_0's l1: 0.0717466\n",
      "[323]\tvalid_0's l1: 0.0717481\n",
      "[324]\tvalid_0's l1: 0.0717484\n",
      "[325]\tvalid_0's l1: 0.0717472\n",
      "[326]\tvalid_0's l1: 0.0717484\n",
      "[327]\tvalid_0's l1: 0.0717499\n",
      "[328]\tvalid_0's l1: 0.0717487\n",
      "[329]\tvalid_0's l1: 0.0717479\n",
      "[330]\tvalid_0's l1: 0.0717495\n",
      "[331]\tvalid_0's l1: 0.0717507\n",
      "[332]\tvalid_0's l1: 0.0717514\n",
      "[333]\tvalid_0's l1: 0.071753\n",
      "[334]\tvalid_0's l1: 0.0717499\n",
      "[335]\tvalid_0's l1: 0.0717528\n",
      "[336]\tvalid_0's l1: 0.0717513\n",
      "[337]\tvalid_0's l1: 0.0717528\n",
      "[338]\tvalid_0's l1: 0.0717548\n",
      "[339]\tvalid_0's l1: 0.071751\n",
      "[340]\tvalid_0's l1: 0.0717538\n",
      "[341]\tvalid_0's l1: 0.0717527\n",
      "[342]\tvalid_0's l1: 0.0717522\n",
      "[343]\tvalid_0's l1: 0.0717538\n",
      "[344]\tvalid_0's l1: 0.0717541\n",
      "[345]\tvalid_0's l1: 0.0717532\n",
      "[346]\tvalid_0's l1: 0.0717499\n",
      "[347]\tvalid_0's l1: 0.0717512\n",
      "[348]\tvalid_0's l1: 0.0717474\n",
      "[349]\tvalid_0's l1: 0.0717494\n",
      "[350]\tvalid_0's l1: 0.0717497\n",
      "[351]\tvalid_0's l1: 0.0717524\n",
      "[352]\tvalid_0's l1: 0.0717501\n",
      "[353]\tvalid_0's l1: 0.0717481\n",
      "[354]\tvalid_0's l1: 0.0717481\n",
      "[355]\tvalid_0's l1: 0.0717457\n",
      "[356]\tvalid_0's l1: 0.0717488\n",
      "[357]\tvalid_0's l1: 0.0717469\n",
      "[358]\tvalid_0's l1: 0.0717477\n",
      "[359]\tvalid_0's l1: 0.0717468\n",
      "[360]\tvalid_0's l1: 0.0717452\n",
      "[361]\tvalid_0's l1: 0.071742\n",
      "[362]\tvalid_0's l1: 0.0717463\n",
      "[363]\tvalid_0's l1: 0.0717462\n",
      "[364]\tvalid_0's l1: 0.0717502\n",
      "[365]\tvalid_0's l1: 0.0717476\n",
      "[366]\tvalid_0's l1: 0.0717468\n",
      "[367]\tvalid_0's l1: 0.0717447\n",
      "[368]\tvalid_0's l1: 0.0717468\n",
      "[369]\tvalid_0's l1: 0.0717469\n",
      "[370]\tvalid_0's l1: 0.0717489\n",
      "[371]\tvalid_0's l1: 0.0717517\n",
      "[372]\tvalid_0's l1: 0.0717467\n",
      "[373]\tvalid_0's l1: 0.0717479\n",
      "[374]\tvalid_0's l1: 0.0717496\n",
      "[375]\tvalid_0's l1: 0.0717498\n",
      "[376]\tvalid_0's l1: 0.0717466\n",
      "[377]\tvalid_0's l1: 0.0717432\n",
      "[378]\tvalid_0's l1: 0.0717449\n",
      "[379]\tvalid_0's l1: 0.0717414\n",
      "[380]\tvalid_0's l1: 0.0717403\n",
      "[381]\tvalid_0's l1: 0.0717396\n",
      "[382]\tvalid_0's l1: 0.0717395\n",
      "[383]\tvalid_0's l1: 0.071741\n",
      "[384]\tvalid_0's l1: 0.0717408\n",
      "[385]\tvalid_0's l1: 0.0717408\n",
      "[386]\tvalid_0's l1: 0.0717392\n",
      "[387]\tvalid_0's l1: 0.0717391\n",
      "[388]\tvalid_0's l1: 0.0717389\n",
      "[389]\tvalid_0's l1: 0.0717377\n",
      "[390]\tvalid_0's l1: 0.0717371\n",
      "[391]\tvalid_0's l1: 0.0717375\n",
      "[392]\tvalid_0's l1: 0.0717383\n",
      "[393]\tvalid_0's l1: 0.0717338\n",
      "[394]\tvalid_0's l1: 0.0717355\n",
      "[395]\tvalid_0's l1: 0.0717328\n",
      "[396]\tvalid_0's l1: 0.0717329\n",
      "[397]\tvalid_0's l1: 0.0717306\n",
      "[398]\tvalid_0's l1: 0.0717273\n",
      "[399]\tvalid_0's l1: 0.0717262\n",
      "[400]\tvalid_0's l1: 0.0717263\n",
      "[401]\tvalid_0's l1: 0.0717278\n",
      "[402]\tvalid_0's l1: 0.071726\n",
      "[403]\tvalid_0's l1: 0.071726\n",
      "[404]\tvalid_0's l1: 0.071724\n",
      "[405]\tvalid_0's l1: 0.0717248\n",
      "[406]\tvalid_0's l1: 0.0717275\n",
      "[407]\tvalid_0's l1: 0.0717256\n",
      "[408]\tvalid_0's l1: 0.0717238\n",
      "[409]\tvalid_0's l1: 0.0717235\n",
      "[410]\tvalid_0's l1: 0.0717235\n",
      "[411]\tvalid_0's l1: 0.0717245\n",
      "[412]\tvalid_0's l1: 0.0717253\n",
      "[413]\tvalid_0's l1: 0.071723\n",
      "[414]\tvalid_0's l1: 0.0717252\n",
      "[415]\tvalid_0's l1: 0.071724\n",
      "[416]\tvalid_0's l1: 0.0717232\n",
      "[417]\tvalid_0's l1: 0.0717221\n",
      "[418]\tvalid_0's l1: 0.0717208\n",
      "[419]\tvalid_0's l1: 0.0717239\n",
      "[420]\tvalid_0's l1: 0.0717244\n",
      "[421]\tvalid_0's l1: 0.0717248\n",
      "[422]\tvalid_0's l1: 0.0717249\n",
      "[423]\tvalid_0's l1: 0.0717262\n",
      "[424]\tvalid_0's l1: 0.0717257\n",
      "[425]\tvalid_0's l1: 0.0717273\n",
      "[426]\tvalid_0's l1: 0.0717251\n",
      "[427]\tvalid_0's l1: 0.0717277\n",
      "[428]\tvalid_0's l1: 0.071727\n",
      "[429]\tvalid_0's l1: 0.0717277\n",
      "[430]\tvalid_0's l1: 0.0717285\n",
      "[431]\tvalid_0's l1: 0.0717277\n",
      "[432]\tvalid_0's l1: 0.0717241\n",
      "[433]\tvalid_0's l1: 0.0717188\n",
      "[434]\tvalid_0's l1: 0.071715\n",
      "[435]\tvalid_0's l1: 0.0717141\n",
      "[436]\tvalid_0's l1: 0.0717136\n",
      "[437]\tvalid_0's l1: 0.071713\n",
      "[438]\tvalid_0's l1: 0.0717109\n",
      "[439]\tvalid_0's l1: 0.0717082\n",
      "[440]\tvalid_0's l1: 0.071709\n",
      "[441]\tvalid_0's l1: 0.0717092\n",
      "[442]\tvalid_0's l1: 0.0717107\n",
      "[443]\tvalid_0's l1: 0.0717086\n",
      "[444]\tvalid_0's l1: 0.0717069\n",
      "[445]\tvalid_0's l1: 0.0717064\n",
      "[446]\tvalid_0's l1: 0.0717076\n",
      "[447]\tvalid_0's l1: 0.0717068\n",
      "[448]\tvalid_0's l1: 0.0717079\n",
      "[449]\tvalid_0's l1: 0.0717059\n",
      "[450]\tvalid_0's l1: 0.0717032\n",
      "[451]\tvalid_0's l1: 0.0717038\n",
      "[452]\tvalid_0's l1: 0.0717055\n",
      "[453]\tvalid_0's l1: 0.0717078\n",
      "[454]\tvalid_0's l1: 0.0717084\n",
      "[455]\tvalid_0's l1: 0.0717085\n",
      "[456]\tvalid_0's l1: 0.0717084\n",
      "[457]\tvalid_0's l1: 0.0717061\n",
      "[458]\tvalid_0's l1: 0.071706\n",
      "[459]\tvalid_0's l1: 0.0717057\n",
      "[460]\tvalid_0's l1: 0.071706\n",
      "[461]\tvalid_0's l1: 0.0717055\n",
      "[462]\tvalid_0's l1: 0.0717025\n",
      "[463]\tvalid_0's l1: 0.0717045\n",
      "[464]\tvalid_0's l1: 0.0717035\n",
      "[465]\tvalid_0's l1: 0.0717003\n",
      "[466]\tvalid_0's l1: 0.0716996\n",
      "[467]\tvalid_0's l1: 0.0716998\n",
      "[468]\tvalid_0's l1: 0.0717001\n",
      "[469]\tvalid_0's l1: 0.071702\n",
      "[470]\tvalid_0's l1: 0.0717025\n",
      "[471]\tvalid_0's l1: 0.0717011\n",
      "[472]\tvalid_0's l1: 0.0717049\n",
      "[473]\tvalid_0's l1: 0.0717017\n",
      "[474]\tvalid_0's l1: 0.0717039\n",
      "[475]\tvalid_0's l1: 0.0717037\n",
      "[476]\tvalid_0's l1: 0.0717038\n",
      "[477]\tvalid_0's l1: 0.0717049\n",
      "[478]\tvalid_0's l1: 0.0717046\n",
      "[479]\tvalid_0's l1: 0.0717073\n",
      "[480]\tvalid_0's l1: 0.0717081\n",
      "[481]\tvalid_0's l1: 0.0717075\n",
      "[482]\tvalid_0's l1: 0.0717082\n",
      "[483]\tvalid_0's l1: 0.0717089\n",
      "[484]\tvalid_0's l1: 0.0717089\n",
      "[485]\tvalid_0's l1: 0.0717088\n",
      "[486]\tvalid_0's l1: 0.0717073\n",
      "[487]\tvalid_0's l1: 0.0717081\n",
      "[488]\tvalid_0's l1: 0.0717093\n",
      "[489]\tvalid_0's l1: 0.0717099\n",
      "[490]\tvalid_0's l1: 0.0717132\n",
      "[491]\tvalid_0's l1: 0.0717144\n",
      "[492]\tvalid_0's l1: 0.0717164\n",
      "[493]\tvalid_0's l1: 0.0717141\n",
      "[494]\tvalid_0's l1: 0.0717183\n",
      "[495]\tvalid_0's l1: 0.0717162\n",
      "[496]\tvalid_0's l1: 0.0717146\n",
      "[497]\tvalid_0's l1: 0.0717133\n",
      "[498]\tvalid_0's l1: 0.0717116\n",
      "[499]\tvalid_0's l1: 0.0717107\n",
      "[500]\tvalid_0's l1: 0.0717068\n"
     ]
    },
    {
     "name": "stderr",
     "output_type": "stream",
     "text": [
      "/Users/yashikagoyal/anaconda3/lib/python3.6/site-packages/ipykernel_launcher.py:15: SettingWithCopyWarning: \n",
      "A value is trying to be set on a copy of a slice from a DataFrame.\n",
      "Try using .loc[row_indexer,col_indexer] = value instead\n",
      "\n",
      "See the caveats in the documentation: http://pandas.pydata.org/pandas-docs/stable/indexing.html#indexing-view-versus-copy\n",
      "  from ipykernel import kernelapp as app\n"
     ]
    },
    {
     "name": "stdout",
     "output_type": "stream",
     "text": [
      "Done\n"
     ]
    }
   ],
   "source": [
    "watchlist = [d_valid]\n",
    "clf = lgb.train(params, d_train, 500, watchlist)\n",
    "\n",
    "sample = pd.read_csv('sample_submission.csv')\n",
    "sample['parcelid'] = sample['ParcelId']\n",
    "df_test = sample.merge(property_2016, on='parcelid', how='left')\n",
    "\n",
    "x_test = df_test[train_columns]\n",
    "\n",
    "temp2 = x_test.dtypes[x_test.dtypes == object].index.values\n",
    "for c in temp2:\n",
    "    x_test[c] = (x_test[c] == True)\n",
    "x_test = x_test.values.astype(np.float32, copy=False)\n",
    "\n",
    "clf.reset_parameter({\"num_threads\":1})\n",
    "y_test = clf.predict(x_test)\n",
    "\n",
    "\n",
    "sub = pd.read_csv('sample_submission.csv')\n",
    "for c in sub.columns[sub.columns != 'ParcelId']:\n",
    "    sub[c] = y_test\n",
    "\n",
    "sub.to_csv('lgb_results_final.csv', index=False, float_format='%.4f')\n",
    "print(\"Done\")"
   ]
  },
  {
   "cell_type": "code",
   "execution_count": null,
   "metadata": {},
   "outputs": [],
   "source": []
  }
 ],
 "metadata": {
  "kernelspec": {
   "display_name": "Python 3",
   "language": "python",
   "name": "python3"
  },
  "language_info": {
   "codemirror_mode": {
    "name": "ipython",
    "version": 3
   },
   "file_extension": ".py",
   "mimetype": "text/x-python",
   "name": "python",
   "nbconvert_exporter": "python",
   "pygments_lexer": "ipython3",
   "version": "3.6.4"
  }
 },
 "nbformat": 4,
 "nbformat_minor": 2
}
